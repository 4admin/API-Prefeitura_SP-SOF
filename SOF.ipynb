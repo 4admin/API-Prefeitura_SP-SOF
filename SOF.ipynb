{
 "cells": [
  {
   "cell_type": "code",
   "execution_count": 1,
   "metadata": {},
   "outputs": [
    {
     "name": "stderr",
     "output_type": "stream",
     "text": [
      "c:\\Users\\daniel\\AppData\\Local\\anaconda3\\envs\\testeapi\\Lib\\site-packages\\urllib3\\connectionpool.py:1099: InsecureRequestWarning: Unverified HTTPS request is being made to host 'gateway.apilib.prefeitura.sp.gov.br'. Adding certificate verification is strongly advised. See: https://urllib3.readthedocs.io/en/latest/advanced-usage.html#tls-warnings\n",
      "  warnings.warn(\n"
     ]
    },
    {
     "data": {
      "text/plain": [
       "<Response [200]>"
      ]
     },
     "execution_count": 1,
     "metadata": {},
     "output_type": "execute_result"
    }
   ],
   "source": [
    "import requests\n",
    "from requests.auth import HTTPBasicAuth\n",
    "from keysof import chaves\n",
    "\n",
    "url = \"https://gateway.apilib.prefeitura.sp.gov.br/token\"\n",
    "\n",
    "data = {\n",
    "    \"grant_type\": \"client_credentials\"\n",
    "}\n",
    "\n",
    "client_id = chaves.get('client_id_')\n",
    "client_secret = chaves.get('client_secret_')\n",
    "\n",
    "\n",
    "response = requests.post(\n",
    "    url,\n",
    "    data=data,\n",
    "    auth=HTTPBasicAuth(client_id, client_secret),\n",
    "    verify=False\n",
    ")\n",
    "\n",
    "acess_token = response.json()['access_token']\n",
    "\n",
    "response"
   ]
  },
  {
   "cell_type": "code",
   "execution_count": 2,
   "metadata": {},
   "outputs": [
    {
     "data": {
      "text/plain": [
       "'Pxd4k12wzABSom4BqVnIQVjrxksa'"
      ]
     },
     "execution_count": 2,
     "metadata": {},
     "output_type": "execute_result"
    }
   ],
   "source": [
    "chaves.get('client_secret_')"
   ]
  },
  {
   "cell_type": "code",
   "execution_count": 3,
   "metadata": {},
   "outputs": [
    {
     "data": {
      "text/plain": [
       "{'metadados': {'txtMensagemErro': 'null', 'qtdPaginas': 1, 'txtStatus': 'OK'},\n",
       " 'lstElementos': [{'codElemento': '01',\n",
       "   'txtDescricaoElemento': 'Aposentadorias do RPPS, Reserva Remunerada e Reformas dos Militares'},\n",
       "  {'codElemento': '01',\n",
       "   'txtDescricaoElemento': 'Aposentadorias, Reserva Remunerada e Reformas dos Militares'},\n",
       "  {'codElemento': '03',\n",
       "   'txtDescricaoElemento': 'Pensões do RPPS e do Militar'},\n",
       "  {'codElemento': '04',\n",
       "   'txtDescricaoElemento': 'Contratação por Tempo Determinado'},\n",
       "  {'codElemento': '05',\n",
       "   'txtDescricaoElemento': 'Outros Benefícios Previdenciários do Servidor ou do Militar'},\n",
       "  {'codElemento': '07',\n",
       "   'txtDescricaoElemento': 'Contribuição a Entidades Fechadas de Previdência'},\n",
       "  {'codElemento': '08',\n",
       "   'txtDescricaoElemento': 'Outros Benefícios Assistenciais do Servidor e do Militar'},\n",
       "  {'codElemento': '08',\n",
       "   'txtDescricaoElemento': 'Outros Benefícios Assistenciais do Servidor ou do Militar'},\n",
       "  {'codElemento': '09', 'txtDescricaoElemento': 'Salário Família'},\n",
       "  {'codElemento': '11',\n",
       "   'txtDescricaoElemento': 'Vencimentos e Vantagens Fixas - Pessoal Civil'},\n",
       "  {'codElemento': '13', 'txtDescricaoElemento': 'Obrigações Patronais'},\n",
       "  {'codElemento': '14', 'txtDescricaoElemento': 'Diárias - Civil'},\n",
       "  {'codElemento': '16',\n",
       "   'txtDescricaoElemento': 'Outras Despesas Variáveis - Pessoal Civil'},\n",
       "  {'codElemento': '18',\n",
       "   'txtDescricaoElemento': 'Auxílio Financeiro a Estudantes'},\n",
       "  {'codElemento': '20',\n",
       "   'txtDescricaoElemento': 'Auxílio Financeiro a Pesquisadores'},\n",
       "  {'codElemento': '21',\n",
       "   'txtDescricaoElemento': 'Juros sobre a Dívida por Contrato'},\n",
       "  {'codElemento': '22',\n",
       "   'txtDescricaoElemento': 'Outros Encargos sobre a Dívida por Contrato'},\n",
       "  {'codElemento': '27',\n",
       "   'txtDescricaoElemento': 'Encargos pela Honra de Avais, Garantias, Seguros e Similares'},\n",
       "  {'codElemento': '30', 'txtDescricaoElemento': 'Material de Consumo'},\n",
       "  {'codElemento': '31',\n",
       "   'txtDescricaoElemento': 'Premiações Culturais, Artísticas, Científicas, Desport. e Outras'},\n",
       "  {'codElemento': '31',\n",
       "   'txtDescricaoElemento': 'Premiações Culturais, Artísticas, Científicas, Desportivas e Outras'},\n",
       "  {'codElemento': '32',\n",
       "   'txtDescricaoElemento': 'Material, Bem ou Serviço para Distribuição Gratuita'},\n",
       "  {'codElemento': '33',\n",
       "   'txtDescricaoElemento': 'Passagens e Despesas com Locomoção'},\n",
       "  {'codElemento': '34',\n",
       "   'txtDescricaoElemento': 'Outras Desp. de Pessoal Decorrentes de Contratos de Terceirização'},\n",
       "  {'codElemento': '34',\n",
       "   'txtDescricaoElemento': 'Outras Despesas de Pessoal Decorrentes de Contratos de Terceirização'},\n",
       "  {'codElemento': '35', 'txtDescricaoElemento': 'Serviços de Consultoria'},\n",
       "  {'codElemento': '36',\n",
       "   'txtDescricaoElemento': 'Outros Serviços de Terceiros - Pessoa Física'},\n",
       "  {'codElemento': '37', 'txtDescricaoElemento': 'Locação de Mão-de-Obra'},\n",
       "  {'codElemento': '39',\n",
       "   'txtDescricaoElemento': 'Outros Serviços de Terceiros - Pessoa Jurídica'},\n",
       "  {'codElemento': '40',\n",
       "   'txtDescricaoElemento': 'Serviços de Tecnologia da Informação e Comunicação - Pessoa Jurídica'},\n",
       "  {'codElemento': '41', 'txtDescricaoElemento': 'Contribuições'},\n",
       "  {'codElemento': '42', 'txtDescricaoElemento': 'Auxílios'},\n",
       "  {'codElemento': '43', 'txtDescricaoElemento': 'Subvenções Sociais'},\n",
       "  {'codElemento': '45', 'txtDescricaoElemento': 'Subvenções Econômicas'},\n",
       "  {'codElemento': '46', 'txtDescricaoElemento': 'Auxílio-Alimentação'},\n",
       "  {'codElemento': '47',\n",
       "   'txtDescricaoElemento': 'Obrigações Tributárias e Contributivas'},\n",
       "  {'codElemento': '48',\n",
       "   'txtDescricaoElemento': 'Outros Auxílios Financeiros a Pessoas Físicas'},\n",
       "  {'codElemento': '49', 'txtDescricaoElemento': 'Auxílio-Transporte'},\n",
       "  {'codElemento': '51', 'txtDescricaoElemento': 'Obras e Instalações'},\n",
       "  {'codElemento': '52',\n",
       "   'txtDescricaoElemento': 'Equipamentos e Material Permanente'},\n",
       "  {'codElemento': '61', 'txtDescricaoElemento': 'Aquisição de Imóveis'},\n",
       "  {'codElemento': '62',\n",
       "   'txtDescricaoElemento': 'Aquisição de Produtos para Revenda'},\n",
       "  {'codElemento': '63',\n",
       "   'txtDescricaoElemento': 'Aquisição de Título de Crédito'},\n",
       "  {'codElemento': '65',\n",
       "   'txtDescricaoElemento': 'Constituição ou Aumento de Capital de Empresas'},\n",
       "  {'codElemento': '66',\n",
       "   'txtDescricaoElemento': 'Concessão de Empréstimos e Financiamentos'},\n",
       "  {'codElemento': '71',\n",
       "   'txtDescricaoElemento': 'Principal da Dívida Contratual Resgatado'},\n",
       "  {'codElemento': '72',\n",
       "   'txtDescricaoElemento': 'Principal da Dívida Mobiliária Resgatado'},\n",
       "  {'codElemento': '75',\n",
       "   'txtDescricaoElemento': 'Correção Monetária da Dívida de Oper.de Crédito por Antecip.da Receita'},\n",
       "  {'codElemento': '77',\n",
       "   'txtDescricaoElemento': 'Principal Corrigido da Dívida Contratual Refinanciado'},\n",
       "  {'codElemento': '82',\n",
       "   'txtDescricaoElemento': 'Aporte de Recursos pelo Parceiro Público em Favor do Parceiro Privado Decorrente de Contrato de Parc'},\n",
       "  {'codElemento': '83',\n",
       "   'txtDescricaoElemento': 'Despesas Decorrentes de Contrato de Parceria Público-Privada'},\n",
       "  {'codElemento': '84',\n",
       "   'txtDescricaoElemento': 'Desp. Dec. da Partic.Fundos, Organ., ou Entid.Assem., Nac.e Internac.'},\n",
       "  {'codElemento': '85', 'txtDescricaoElemento': 'Contrato de Gestão'},\n",
       "  {'codElemento': '86',\n",
       "   'txtDescricaoElemento': 'Compensações a Regimes de Previdência'},\n",
       "  {'codElemento': '91', 'txtDescricaoElemento': 'Sentenças Judiciais'},\n",
       "  {'codElemento': '92',\n",
       "   'txtDescricaoElemento': 'Despesas de Exercicios Anteriores'},\n",
       "  {'codElemento': '93', 'txtDescricaoElemento': 'Indenização e Restituições'},\n",
       "  {'codElemento': '93', 'txtDescricaoElemento': 'Indenizações e Restituições'},\n",
       "  {'codElemento': '94',\n",
       "   'txtDescricaoElemento': 'Indenizações e Restituições Trabalhistas'},\n",
       "  {'codElemento': '96',\n",
       "   'txtDescricaoElemento': 'Ressarcimento de Despesas de Pessoal Requisitado'},\n",
       "  {'codElemento': '97',\n",
       "   'txtDescricaoElemento': 'Aporte para Cobertura do Déficit Atuarial do RPPS'},\n",
       "  {'codElemento': '98', 'txtDescricaoElemento': 'Compensações ao RGPS'}]}"
      ]
     },
     "execution_count": 3,
     "metadata": {},
     "output_type": "execute_result"
    }
   ],
   "source": [
    "endpoint = \"https://gateway.apilib.prefeitura.sp.gov.br/sf/sof/v4/elementos\"\n",
    "\n",
    "params = {\n",
    "    'anoExercicio': 2023\n",
    "}\n",
    "\n",
    "headers = {\n",
    "    \"accept\": \"application/json\",\n",
    "    \"Authorization\": f\"Bearer {acess_token}\"\n",
    "}\n",
    "\n",
    "response = requests.get(endpoint, headers=headers, params=params)\n",
    "\n",
    "response.json()"
   ]
  }
 ],
 "metadata": {
  "kernelspec": {
   "display_name": "testeapi",
   "language": "python",
   "name": "python3"
  },
  "language_info": {
   "codemirror_mode": {
    "name": "ipython",
    "version": 3
   },
   "file_extension": ".py",
   "mimetype": "text/x-python",
   "name": "python",
   "nbconvert_exporter": "python",
   "pygments_lexer": "ipython3",
   "version": "3.12.4"
  }
 },
 "nbformat": 4,
 "nbformat_minor": 2
}
